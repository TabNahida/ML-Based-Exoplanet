{
 "cells": [
  {
   "cell_type": "code",
   "execution_count": 2,
   "id": "2ed33a04",
   "metadata": {},
   "outputs": [
    {
     "ename": "AttributeError",
     "evalue": "module 'batman' has no attribute 'TransitParams'",
     "output_type": "error",
     "traceback": [
      "\u001b[31m---------------------------------------------------------------------------\u001b[39m",
      "\u001b[31mAttributeError\u001b[39m                            Traceback (most recent call last)",
      "\u001b[36mCell\u001b[39m\u001b[36m \u001b[39m\u001b[32mIn[2]\u001b[39m\u001b[32m, line 34\u001b[39m\n\u001b[32m     31\u001b[39m     \u001b[38;5;28;01mreturn\u001b[39;00m flux + noise\n\u001b[32m     33\u001b[39m \u001b[38;5;66;03m# 生成样本\u001b[39;00m\n\u001b[32m---> \u001b[39m\u001b[32m34\u001b[39m X = np.stack([\u001b[43mmake_lightcurve\u001b[49m\u001b[43m(\u001b[49m\u001b[43mi\u001b[49m\u001b[43m \u001b[49m\u001b[43m%\u001b[49m\u001b[43m \u001b[49m\u001b[32;43m2\u001b[39;49m\u001b[43m)\u001b[49m \u001b[38;5;28;01mfor\u001b[39;00m i \u001b[38;5;129;01min\u001b[39;00m \u001b[38;5;28mrange\u001b[39m(\u001b[32m1024\u001b[39m)])\n\u001b[32m     35\u001b[39m y = np.array([i % \u001b[32m2\u001b[39m \u001b[38;5;28;01mfor\u001b[39;00m i \u001b[38;5;129;01min\u001b[39;00m \u001b[38;5;28mrange\u001b[39m(\u001b[32m1024\u001b[39m)])\n",
      "\u001b[36mCell\u001b[39m\u001b[36m \u001b[39m\u001b[32mIn[2]\u001b[39m\u001b[32m, line 8\u001b[39m, in \u001b[36mmake_lightcurve\u001b[39m\u001b[34m(has_moon)\u001b[39m\n\u001b[32m      6\u001b[39m \u001b[38;5;28;01mdef\u001b[39;00m\u001b[38;5;250m \u001b[39m\u001b[34mmake_lightcurve\u001b[39m(has_moon: \u001b[38;5;28mbool\u001b[39m):\n\u001b[32m      7\u001b[39m     \u001b[38;5;66;03m# 星/行星参数\u001b[39;00m\n\u001b[32m----> \u001b[39m\u001b[32m8\u001b[39m     params = \u001b[43mbatman\u001b[49m\u001b[43m.\u001b[49m\u001b[43mTransitParams\u001b[49m()\n\u001b[32m      9\u001b[39m     params.t0      = \u001b[32m0.0\u001b[39m          \u001b[38;5;66;03m# 轨道中点\u001b[39;00m\n\u001b[32m     10\u001b[39m     params.per     = \u001b[32m5.0\u001b[39m          \u001b[38;5;66;03m# 周期 (d)\u001b[39;00m\n",
      "\u001b[31mAttributeError\u001b[39m: module 'batman' has no attribute 'TransitParams'"
     ]
    }
   ],
   "source": [
    "# -----------------------------------------------\n",
    "# 1) 生成有/无 exomoon 的模拟光变曲线\n",
    "# -----------------------------------------------\n",
    "import batman, numpy as np\n",
    "\n",
    "def make_lightcurve(has_moon: bool):\n",
    "    # 星/行星参数\n",
    "    params = batman.TransitParams()\n",
    "    params.t0      = 0.0          # 轨道中点\n",
    "    params.per     = 5.0          # 周期 (d)\n",
    "    params.rp      = 0.1          # Rp/Rs\n",
    "    params.a       = 15.0         # a/Rs\n",
    "    params.inc     = 89.0         # 倾角 (deg)\n",
    "    params.ecc     = 0.0\n",
    "    params.w       = 90.\n",
    "    params.u       = [0.3, 0.1]   # 二次肢暗\n",
    "    params.limb_dark = \"quadratic\"\n",
    "\n",
    "    t = np.linspace(-0.05, 0.05, 2048)\n",
    "    m = batman.TransitModel(params, t)\n",
    "    flux = m.light_curve(params)\n",
    "\n",
    "    if has_moon:\n",
    "        # 简易“月球”掩食：相位滞后 0.02 d，面积比例 0.02\n",
    "        moon_depth = 0.02 ** 2\n",
    "        moon_curve = 1 - moon_depth * np.exp(-((t - 0.02)/0.003)**2)\n",
    "        flux *= moon_curve\n",
    "\n",
    "    # 加噪 (JWST 级别: σ≈30 ppm)\n",
    "    noise = np.random.normal(0, 3e-5, size=flux.size)\n",
    "    return flux + noise\n",
    "\n",
    "# 生成样本\n",
    "X = np.stack([make_lightcurve(i % 2) for i in range(1024)])\n",
    "y = np.array([i % 2 for i in range(1024)])\n"
   ]
  },
  {
   "cell_type": "code",
   "execution_count": 3,
   "id": "28288711",
   "metadata": {},
   "outputs": [
    {
     "ename": "AttributeError",
     "evalue": "module 'batman' has no attribute 'TransitParams'",
     "output_type": "error",
     "traceback": [
      "\u001b[31m---------------------------------------------------------------------------\u001b[39m",
      "\u001b[31mAttributeError\u001b[39m                            Traceback (most recent call last)",
      "\u001b[36mCell\u001b[39m\u001b[36m \u001b[39m\u001b[32mIn[3]\u001b[39m\u001b[32m, line 34\u001b[39m\n\u001b[32m     31\u001b[39m     \u001b[38;5;28;01mreturn\u001b[39;00m flux + noise\n\u001b[32m     33\u001b[39m \u001b[38;5;66;03m# 生成样本\u001b[39;00m\n\u001b[32m---> \u001b[39m\u001b[32m34\u001b[39m X = np.stack([\u001b[43mmake_lightcurve\u001b[49m\u001b[43m(\u001b[49m\u001b[43mi\u001b[49m\u001b[43m \u001b[49m\u001b[43m%\u001b[49m\u001b[43m \u001b[49m\u001b[32;43m2\u001b[39;49m\u001b[43m)\u001b[49m \u001b[38;5;28;01mfor\u001b[39;00m i \u001b[38;5;129;01min\u001b[39;00m \u001b[38;5;28mrange\u001b[39m(\u001b[32m1024\u001b[39m)])\n\u001b[32m     35\u001b[39m y = np.array([i % \u001b[32m2\u001b[39m \u001b[38;5;28;01mfor\u001b[39;00m i \u001b[38;5;129;01min\u001b[39;00m \u001b[38;5;28mrange\u001b[39m(\u001b[32m1024\u001b[39m)])\n",
      "\u001b[36mCell\u001b[39m\u001b[36m \u001b[39m\u001b[32mIn[3]\u001b[39m\u001b[32m, line 8\u001b[39m, in \u001b[36mmake_lightcurve\u001b[39m\u001b[34m(has_moon)\u001b[39m\n\u001b[32m      6\u001b[39m \u001b[38;5;28;01mdef\u001b[39;00m\u001b[38;5;250m \u001b[39m\u001b[34mmake_lightcurve\u001b[39m(has_moon: \u001b[38;5;28mbool\u001b[39m):\n\u001b[32m      7\u001b[39m     \u001b[38;5;66;03m# 星/行星参数\u001b[39;00m\n\u001b[32m----> \u001b[39m\u001b[32m8\u001b[39m     params = \u001b[43mbatman\u001b[49m\u001b[43m.\u001b[49m\u001b[43mTransitParams\u001b[49m()\n\u001b[32m      9\u001b[39m     params.t0      = \u001b[32m0.0\u001b[39m          \u001b[38;5;66;03m# 轨道中点\u001b[39;00m\n\u001b[32m     10\u001b[39m     params.per     = \u001b[32m5.0\u001b[39m          \u001b[38;5;66;03m# 周期 (d)\u001b[39;00m\n",
      "\u001b[31mAttributeError\u001b[39m: module 'batman' has no attribute 'TransitParams'"
     ]
    }
   ],
   "source": [
    "# -----------------------------------------------\n",
    "# 1) 生成有/无 exomoon 的模拟光变曲线\n",
    "# -----------------------------------------------\n",
    "import batman, numpy as np\n",
    "\n",
    "def make_lightcurve(has_moon: bool):\n",
    "    # 星/行星参数\n",
    "    params = batman.TransitParams()\n",
    "    params.t0      = 0.0          # 轨道中点\n",
    "    params.per     = 5.0          # 周期 (d)\n",
    "    params.rp      = 0.1          # Rp/Rs\n",
    "    params.a       = 15.0         # a/Rs\n",
    "    params.inc     = 89.0         # 倾角 (deg)\n",
    "    params.ecc     = 0.0\n",
    "    params.w       = 90.\n",
    "    params.u       = [0.3, 0.1]   # 二次肢暗\n",
    "    params.limb_dark = \"quadratic\"\n",
    "\n",
    "    t = np.linspace(-0.05, 0.05, 2048)\n",
    "    m = batman.TransitModel(params, t)\n",
    "    flux = m.light_curve(params)\n",
    "\n",
    "    if has_moon:\n",
    "        # 简易“月球”掩食：相位滞后 0.02 d，面积比例 0.02\n",
    "        moon_depth = 0.02 ** 2\n",
    "        moon_curve = 1 - moon_depth * np.exp(-((t - 0.02)/0.003)**2)\n",
    "        flux *= moon_curve\n",
    "\n",
    "    # 加噪 (JWST 级别: σ≈30 ppm)\n",
    "    noise = np.random.normal(0, 3e-5, size=flux.size)\n",
    "    return flux + noise\n",
    "\n",
    "# 生成样本\n",
    "X = np.stack([make_lightcurve(i % 2) for i in range(1024)])\n",
    "y = np.array([i % 2 for i in range(1024)])\n"
   ]
  },
  {
   "cell_type": "code",
   "execution_count": null,
   "id": "545e905f",
   "metadata": {},
   "outputs": [],
   "source": []
  }
 ],
 "metadata": {
  "kernelspec": {
   "display_name": ".venv",
   "language": "python",
   "name": "python3"
  },
  "language_info": {
   "codemirror_mode": {
    "name": "ipython",
    "version": 3
   },
   "file_extension": ".py",
   "mimetype": "text/x-python",
   "name": "python",
   "nbconvert_exporter": "python",
   "pygments_lexer": "ipython3",
   "version": "3.13.3"
  }
 },
 "nbformat": 4,
 "nbformat_minor": 5
}
